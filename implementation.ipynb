{
 "cells": [
  {
   "cell_type": "code",
   "execution_count": 9,
   "metadata": {},
   "outputs": [],
   "source": [
    "import math\n",
    "import numpy as np\n",
    "import matplotlib.pyplot as plt\n",
    "import torch\n",
    "import random"
   ]
  },
  {
   "cell_type": "markdown",
   "metadata": {},
   "source": [
    "---\n",
    "\n",
    "### Defining the Value class for carrying data and gradients"
   ]
  },
  {
   "cell_type": "code",
   "execution_count": 10,
   "metadata": {},
   "outputs": [],
   "source": [
    "class Value:\n",
    "\n",
    "    def __init__(self, data, _children=(), _op='', label=''):\n",
    "        self.data = data \n",
    "        self.grad = 0.0\n",
    "\n",
    "        self._backward = lambda: None\n",
    "        \n",
    "        self._prev = set(_children)\n",
    "        self._op = _op\n",
    "        self.label = label\n",
    "\n",
    "    def __repr__(self):\n",
    "        return f\"Value(data={self.data})\"\n",
    "    \n",
    "    def __add__(self, other):\n",
    "        other = other if isinstance(other, Value) else Value(other)\n",
    "\n",
    "        out = Value(self.data + other.data, (self, other), '+')\n",
    "\n",
    "        def _backward():\n",
    "            self.grad += 1 * out.grad\n",
    "            other.grad += 1 * out.grad\n",
    "\n",
    "        out._backward = _backward\n",
    "        return out\n",
    "    \n",
    "    def __mul__(self, other):\n",
    "        other = other if isinstance(other, Value) else Value(other)\n",
    "        \n",
    "        out = Value(self.data * other.data, (self, other), '*')\n",
    "\n",
    "        def _backward():\n",
    "            self.grad += other.data * out.grad\n",
    "            other.grad += self.data * out.grad\n",
    "        out._backward = _backward    \n",
    "        return out\n",
    "    \n",
    "    def __pow__(self, other):\n",
    "        assert isinstance(other, (int, float)), \"only supporting int/float powers for now\"\n",
    "        out = Value(self.data**other, (self, ), f'**{other}')\n",
    "\n",
    "        def _backward():\n",
    "            self.grad += other * (self.data ** (other - 1)) * out.grad\n",
    "        out._backward = _backward\n",
    "        return out\n",
    "    \n",
    "    def __rmul__(self, other):\n",
    "        return self * other\n",
    "    \n",
    "    def __radd__(self, other):\n",
    "        return self + other\n",
    "\n",
    "    def __truediv__(self, other):\n",
    "        return self * other**-1\n",
    "    \n",
    "    def __neg__(self):\n",
    "        return self * -1\n",
    "    \n",
    "    def __sub__(self, other):\n",
    "        return self + (-other)\n",
    "\n",
    "    def tanh(self):\n",
    "        x = self.data\n",
    "        t = (math.exp(2*x) - 1) / (math.exp(2*x) + 1)\n",
    "        out = Value(t, (self, ), 'tanh')\n",
    "\n",
    "        def _backward():\n",
    "            self.grad += (1 - t**2) * out.grad \n",
    "        out._backward = _backward\n",
    "        return out\n",
    "    \n",
    "    def exp(self):\n",
    "        x = self.data\n",
    "        out = Value(math.exp(x), (self, ), 'exp')\n",
    "\n",
    "        def _backward():\n",
    "            self.grad += out.data * out.grad\n",
    "        out._backward = _backward\n",
    "        return out\n",
    "    \n",
    "    def backward(self):\n",
    "\n",
    "        topo = []\n",
    "        visited = set()\n",
    "        def build_topo(v):\n",
    "            if v not in visited:\n",
    "                visited.add(v)\n",
    "                for child in v._prev:\n",
    "                    build_topo(child)\n",
    "                topo.append(v)\n",
    "        build_topo(self)\n",
    "        self.grad = 1.0\n",
    "\n",
    "        for node in reversed(topo):\n",
    "            node._backward()"
   ]
  },
  {
   "cell_type": "markdown",
   "metadata": {},
   "source": [
    "---\n",
    "\n",
    "### Defining the variables and operations with PyTorch"
   ]
  },
  {
   "cell_type": "code",
   "execution_count": 11,
   "metadata": {},
   "outputs": [
    {
     "name": "stdout",
     "output_type": "stream",
     "text": [
      "o: 0.7071066904050358\n",
      "-----\n",
      "x2: 0.5000001283844369\n",
      "w2: 0.0\n",
      "x1: -1.5000003851533106\n",
      "w1: 1.0000002567688737\n"
     ]
    }
   ],
   "source": [
    "x1 = torch.Tensor([2.0]).double(); x1.requires_grad = True\n",
    "x2 = torch.Tensor([0.0]).double(); x2.requires_grad = True\n",
    "w1 = torch.Tensor([-3.0]).double(); w1.requires_grad = True\n",
    "w2 = torch.Tensor([1.0]).double(); w2.requires_grad = True\n",
    "b = torch.Tensor([6.8813735870195432]).double(); b.requires_grad = True\n",
    "n = x1*w1 + x2*w2 + b\n",
    "o = torch.tanh(n)\n",
    "\n",
    "print('o:', o.item())\n",
    "o.backward()\n",
    "\n",
    "print('-----')\n",
    "print('x2:', x2.grad.item())\n",
    "print('w2:', w2.grad.item())\n",
    "print('x1:', x1.grad.item())\n",
    "print('w1:', w1.grad.item())"
   ]
  },
  {
   "cell_type": "markdown",
   "metadata": {},
   "source": [
    "---\n",
    "\n",
    "### Building the Multilayer Perceptron in Micrograd\n",
    "\n",
    "<img src=\"https://cs231n.github.io/assets/nn1/neural_net2.jpeg\" width=\"300\">"
   ]
  },
  {
   "cell_type": "code",
   "execution_count": 12,
   "metadata": {},
   "outputs": [],
   "source": [
    "class Neuron:\n",
    "    def __init__(self, nin):\n",
    "        self.w = [Value(random.uniform(-1, 1)) for _ in range(nin)]\n",
    "        self.b = Value(random.uniform(-1, 1))\n",
    "\n",
    "    def __call__(self, x):\n",
    "        activation = sum((wi*xi for wi, xi in zip(self.w, x)), self.b)\n",
    "        out = activation.tanh()\n",
    "        return out\n",
    "    \n",
    "    def parameters(self):\n",
    "        return self.w + [self.b]\n",
    "    \n",
    "class Layer:\n",
    "    def __init__(self, nin, nout):\n",
    "        self.neurons = [Neuron(nin) for _ in range(nout)]\n",
    "\n",
    "    def __call__(self, x):\n",
    "        outs = [n(x) for n in self.neurons]\n",
    "        return outs[0] if len(outs) == 1 else outs\n",
    "\n",
    "    def parameters(self):\n",
    "        return [p for neuron in self.neurons for p in neuron.parameters()]\n",
    "    \n",
    "class MLP:\n",
    "    def __init__(self, nin, nouts):\n",
    "        size = [nin] + nouts\n",
    "        self.layers = [Layer(size[i], size[i+1]) for i in range(len(size) - 1)]\n",
    "\n",
    "    def __call__(self, x):\n",
    "        for layer in self.layers:\n",
    "            x = layer(x)\n",
    "        return x\n",
    "    \n",
    "    def parameters(self):\n",
    "        params = []\n",
    "        for layer in self.layers:\n",
    "            ps = layer.parameters()\n",
    "            params.extend(ps)\n",
    "        return params"
   ]
  },
  {
   "cell_type": "markdown",
   "metadata": {},
   "source": [
    "---\n",
    "\n",
    "### Gradient Descent and Backpropagation to train the NN"
   ]
  },
  {
   "cell_type": "code",
   "execution_count": 13,
   "metadata": {},
   "outputs": [
    {
     "data": {
      "text/plain": [
       "Value(data=0.42253489344413125)"
      ]
     },
     "execution_count": 13,
     "metadata": {},
     "output_type": "execute_result"
    }
   ],
   "source": [
    "# input x and nn structure with 3 layers\n",
    "\n",
    "x = [2.0, 3.0, -1.0]\n",
    "n = MLP(3, [4, 4, 1])\n",
    "n(x)"
   ]
  },
  {
   "cell_type": "code",
   "execution_count": 14,
   "metadata": {},
   "outputs": [],
   "source": [
    "# tiny dataset abd desired target output respectively\n",
    "\n",
    "xs = [\n",
    "  [2.0, 3.0, -1.0],\n",
    "  [3.0, -1.0, 0.5],\n",
    "  [0.5, 1.0, 1.0],\n",
    "  [1.0, 1.0, -1.0],\n",
    "]\n",
    "\n",
    "ys = [1.0, -1.0, -1.0, 1.0]"
   ]
  },
  {
   "cell_type": "code",
   "execution_count": 15,
   "metadata": {},
   "outputs": [
    {
     "name": "stdout",
     "output_type": "stream",
     "text": [
      "0 2.697487297842995\n",
      "1 0.09543770738285644\n",
      "2 0.00017535479404302045\n",
      "3 0.00017458339603074272\n",
      "4 0.00017382036801488293\n",
      "5 0.0001730655693350376\n",
      "6 0.00017231886249556707\n",
      "7 0.00017158011307656572\n",
      "8 0.00017084918964786676\n",
      "9 0.00017012596368586578\n",
      "10 0.0001694103094931994\n",
      "11 0.00016870210412101\n",
      "12 0.00016800122729381895\n",
      "13 0.00016730756133685466\n",
      "14 0.00016662099110571947\n",
      "15 0.00016594140391837728\n",
      "16 0.00016526868948931898\n",
      "17 0.00016460273986580604\n",
      "18 0.00016394344936620267\n",
      "19 0.0001632907145202177\n",
      "20 0.00016264443401105177\n",
      "21 0.0001620045086193602\n",
      "22 0.0001613708411689566\n",
      "23 0.00016074333647419223\n",
      "24 0.00016012190128898872\n",
      "25 0.00015950644425740882\n",
      "26 0.00015889687586575425\n",
      "27 0.00015829310839609928\n",
      "28 0.00015769505588125434\n",
      "29 0.00015710263406106838\n",
      "30 0.00015651576034003413\n",
      "31 0.0001559343537461801\n",
      "32 0.0001553583348911496\n",
      "33 0.0001547876259314771\n",
      "34 0.00015422215053098723\n",
      "35 0.00015366183382430952\n",
      "36 0.00015310660238143187\n",
      "37 0.0001525563841732796\n",
      "38 0.00015201110853831047\n",
      "39 0.0001514707061500293\n",
      "40 0.00015093510898545043\n",
      "41 0.00015040425029444606\n",
      "42 0.00014987806456996942\n",
      "43 0.00014935648751908322\n",
      "44 0.00014883945603484227\n",
      "45 0.0001483269081689201\n",
      "46 0.00014781878310501245\n",
      "47 0.00014731502113295996\n",
      "48 0.0001468155636235956\n",
      "49 0.00014632035300426636\n",
      "50 0.00014582933273501737\n",
      "51 0.0001453424472854451\n",
      "52 0.00014485964211213433\n",
      "53 0.00014438086363671647\n",
      "54 0.000143906059224529\n",
      "55 0.00014343517716382866\n",
      "56 0.00014296816664553894\n",
      "57 0.00014250497774354886\n",
      "58 0.0001420455613955274\n",
      "59 0.00014158986938423205\n",
      "60 0.00014113785431929692\n",
      "61 0.00014068946961950563\n",
      "62 0.00014024466949550597\n",
      "63 0.00013980340893298305\n",
      "64 0.00013936564367623947\n",
      "65 0.00013893133021222067\n",
      "66 0.0001385004257549121\n",
      "67 0.0001380728882301603\n",
      "68 0.00013764867626085117\n",
      "69 0.00013722774915247515\n",
      "70 0.00013681006687902783\n",
      "71 0.00013639559006929124\n",
      "72 0.00013598427999342462\n",
      "73 0.00013557609854990803\n",
      "74 0.00013517100825277917\n",
      "75 0.00013476897221920633\n",
      "76 0.00013436995415734042\n",
      "77 0.00013397391835449053\n",
      "78 0.00013358082966552945\n",
      "79 0.0001331906535016535\n",
      "80 0.00013280335581933214\n",
      "81 0.00013241890310959024\n",
      "82 0.00013203726238746155\n",
      "83 0.0001316584011817946\n",
      "84 0.00013128228752520144\n",
      "85 0.00013090888994430114\n",
      "86 0.0001305381774501647\n",
      "87 0.00013017011952898391\n",
      "88 0.00012980468613296755\n",
      "89 0.00012944184767144215\n",
      "90 0.00012908157500213674\n",
      "91 0.00012872383942269853\n",
      "92 0.00012836861266238633\n",
      "93 0.00012801586687393774\n",
      "94 0.00012766557462565083\n",
      "95 0.00012731770889361785\n",
      "96 0.00012697224305415077\n",
      "97 0.00012662915087634813\n",
      "98 0.00012628840651487104\n",
      "99 0.00012594998450283682\n"
     ]
    }
   ],
   "source": [
    "for k in range(100):\n",
    "\n",
    "    # forward pass\n",
    "    ypredicted = [n(x) for x in xs]\n",
    "    loss = sum((yout - ygroundtruth)**2 for ygroundtruth, yout in zip(ys, ypredicted))\n",
    "\n",
    "    # backward pass\n",
    "    for param in n.parameters():\n",
    "        param.grad = 0.0 # reset the gradients to 0 before the backward pass\n",
    "    loss.backward()\n",
    "\n",
    "    # gradient descent step\n",
    "    for param in n.parameters():\n",
    "        param.data -= 0.3 * param.grad\n",
    "    \n",
    "    print(k, loss.data)"
   ]
  },
  {
   "cell_type": "code",
   "execution_count": 16,
   "metadata": {},
   "outputs": [
    {
     "data": {
      "text/plain": [
       "[Value(data=0.992472370792177),\n",
       " Value(data=-0.9962121084853451),\n",
       " Value(data=-0.9969530813240761),\n",
       " Value(data=0.9932433035092674)]"
      ]
     },
     "execution_count": 16,
     "metadata": {},
     "output_type": "execute_result"
    }
   ],
   "source": [
    "ypredicted"
   ]
  },
  {
   "cell_type": "markdown",
   "metadata": {},
   "source": [
    "The target was [1.0, -1.0, -1.0, 1.0], so the model prediction is pretty good."
   ]
  }
 ],
 "metadata": {
  "kernelspec": {
   "display_name": "venv_autograd",
   "language": "python",
   "name": "python3"
  },
  "language_info": {
   "codemirror_mode": {
    "name": "ipython",
    "version": 3
   },
   "file_extension": ".py",
   "mimetype": "text/x-python",
   "name": "python",
   "nbconvert_exporter": "python",
   "pygments_lexer": "ipython3",
   "version": "3.12.4"
  }
 },
 "nbformat": 4,
 "nbformat_minor": 2
}
